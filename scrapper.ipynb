{
 "cells": [
  {
   "cell_type": "code",
   "execution_count": 1,
   "metadata": {},
   "outputs": [],
   "source": [
    "import requests\n",
    "from bs4 import BeautifulSoup"
   ]
  },
  {
   "cell_type": "code",
   "execution_count": 2,
   "metadata": {},
   "outputs": [],
   "source": [
    "def get_content(link: str, parser='html.parser', **kwargs)->BeautifulSoup:\n",
    "    response = requests.get(link, **kwargs)\n",
    "    html_content = response.content\n",
    "    return BeautifulSoup(html_content, parser)"
   ]
  },
  {
   "cell_type": "code",
   "execution_count": 4,
   "metadata": {},
   "outputs": [],
   "source": [
    "url = \"https://search-study-uk.britishcouncil.org/course/search-results.html?onlineFlag=Y&OnCampusNowFlag=Y&OnCampusLaterFlag=Y\"\n",
    "html = get_content(url)"
   ]
  },
  {
   "cell_type": "code",
   "execution_count": 6,
   "metadata": {},
   "outputs": [],
   "source": [
    "from abc import ABC, abstractmethod\n",
    "\n",
    "class Scrapper(ABC):\n",
    "    \"\"\"\n",
    "    Abstract class for all scrapper.\n",
    "    \"\"\"\n",
    "\n",
    "    @abstractmethod\n",
    "    def get_data(self):\n",
    "        raise NotImplementedError()\n",
    "    \n",
    "    @abstractmethod\n",
    "    def get_urls(self, url):\n",
    "        raise NotImplementedError()\n",
    "    \n",
    "    @abstractmethod\n",
    "    def get_last_id(self, url):\n",
    "        raise NotImplementedError()\n",
    "    \n",
    "    \n",
    "    def read_file(self, file_name):\n",
    "        data = None\n",
    "        with open(file_name, 'r', 'utf-8') as file:\n",
    "            data = file.read_lines()\n",
    "        return data\n",
    "\n",
    "    \n",
    "    def write_file(self, file_name, data):\n",
    "        with open(file_name, 'w', 'utf-8') as file:\n",
    "            data = file.read_lines()\n",
    "        return data\n",
    "    \n",
    "    @abstractmethod\n",
    "    def save_urls(self, url):\n",
    "        raise NotImplementedError()\n",
    "    \n",
    "    @abstractmethod\n",
    "    def save_content_to_db(self, url):\n",
    "        raise NotImplementedError()\n",
    "\n",
    "    \n",
    "    def get_all(self):\n",
    "        self.get_last_id()\n",
    "        self.get_urls(20)\n",
    "        \n",
    "    \n"
   ]
  },
  {
   "cell_type": "code",
   "execution_count": null,
   "metadata": {},
   "outputs": [],
   "source": [
    "class BCScrapper(Scrapper):\n",
    "\n",
    "    def __init__(self):\n",
    "        self.url = 'https://search-study-uk.britishcouncil.org/course/search-results.html?onlineFlag=Y&OnCampusNowFlag=Y&OnCampusLaterFlag=Y'\n",
    "        self.last_id = None\n",
    "\n",
    "    def get_data(self):\n",
    "        self.html = get_content(self.url)"
   ]
  }
 ],
 "metadata": {
  "kernelspec": {
   "display_name": "Python 3",
   "language": "python",
   "name": "python3"
  },
  "language_info": {
   "codemirror_mode": {
    "name": "ipython",
    "version": 3
   },
   "file_extension": ".py",
   "mimetype": "text/x-python",
   "name": "python",
   "nbconvert_exporter": "python",
   "pygments_lexer": "ipython3",
   "version": "3.10.13"
  }
 },
 "nbformat": 4,
 "nbformat_minor": 2
}
